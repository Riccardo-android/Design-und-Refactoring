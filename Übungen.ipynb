{
 "cells": [
  {
   "metadata": {},
   "cell_type": "markdown",
   "source": [
    "✅ Übung 1: Projektstruktur analysieren\n",
    "\n",
    "Aufgabe:\n",
    "Du erhältst folgendes Projektlayout:"
   ],
   "id": "45678ba076403b7e"
  },
  {
   "metadata": {},
   "cell_type": "code",
   "outputs": [],
   "execution_count": null,
   "source": [
    "project/\n",
    "├── notebook_final.ipynb\n",
    "├── data.csv\n",
    "├── model.pkl\n",
    "└── script_v2_final_final.py"
   ],
   "id": "1e1e6b870d4046d6"
  },
  {
   "metadata": {},
   "cell_type": "markdown",
   "source": [
    "\n",
    "Was sind die Hauptprobleme dieser Struktur? Wie würdest du sie umgestalten?\n",
    "\n",
    "✅ Übung 2: DRY vs. Copy-Paste\n",
    "\n",
    "Aufgabe:\n",
    "Im Code findest du folgenden Ausschnitt dreimal:\n",
    "Frage:\n",
    "Wie kann man das verbessern?"
   ],
   "id": "ca16a42ecff14061"
  },
  {
   "metadata": {},
   "cell_type": "code",
   "outputs": [],
   "execution_count": null,
   "source": [
    "df[\"date\"] = pd.to_datetime(df[\"date\"])\n",
    "df = df.dropna()\n",
    "df = df[df[\"value\"] > 0]"
   ],
   "id": "36de5f8814be8a17"
  },
  {
   "metadata": {},
   "cell_type": "markdown",
   "source": [
    "✅ Übung 3: Code Smells erkennen\n",
    "\n",
    "Aufgabe:\n",
    "Lies folgenden Code:"
   ],
   "id": "e54ee529f2ee4940"
  },
  {
   "metadata": {},
   "cell_type": "code",
   "outputs": [],
   "execution_count": null,
   "source": [
    "def analyze(df, a, b, c, d, e, f):\n",
    "    result = []\n",
    "    for i in range(len(df)):\n",
    "        if df.iloc[i][a] > 0 and df.iloc[i][b] != None:\n",
    "            if df.iloc[i][c] == \"OK\":\n",
    "                result.append(df.iloc[i][d] + df.iloc[i][e] + df.iloc[i][f])\n",
    "    return result"
   ],
   "id": "8adce10972cbe547"
  },
  {
   "metadata": {},
   "cell_type": "markdown",
   "source": [
    "✅ Übung 4: Refactoring anwenden\n",
    "\n",
    "Aufgabe:\n",
    "Refaktoriere den folgenden Code:"
   ],
   "id": "eb20a7f0b895f751"
  },
  {
   "metadata": {},
   "cell_type": "code",
   "outputs": [],
   "execution_count": null,
   "source": [
    "if status == \"ok\":\n",
    "    if user.is_active:\n",
    "        if not user.is_banned:\n",
    "            do_something()"
   ],
   "id": "bf9abaa0d908d07c"
  },
  {
   "metadata": {},
   "cell_type": "markdown",
   "source": [
    "✅ Übung 5: Test schreiben (TDD)\n",
    "\n",
    "Aufgabe:\n",
    "Du willst eine Funktion remove_negatives() testen, die alle negativen Zahlen aus einer Liste entfernt.\n",
    "\n",
    "Schreibe zuerst den Test:"
   ],
   "id": "1f7818f237cbd484"
  },
  {
   "metadata": {},
   "cell_type": "code",
   "outputs": [],
   "execution_count": null,
   "source": [
    "def test_remove_negatives():\n",
    "    assert remove_negatives([1, -2, 3, -4]) == [1, 3]"
   ],
   "id": "c50ca7f1eceb81c"
  },
  {
   "metadata": {},
   "cell_type": "markdown",
   "source": "",
   "id": "4834461bbea81f2"
  }
 ],
 "metadata": {
  "kernelspec": {
   "display_name": "Python 3",
   "language": "python",
   "name": "python3"
  },
  "language_info": {
   "codemirror_mode": {
    "name": "ipython",
    "version": 2
   },
   "file_extension": ".py",
   "mimetype": "text/x-python",
   "name": "python",
   "nbconvert_exporter": "python",
   "pygments_lexer": "ipython2",
   "version": "2.7.6"
  }
 },
 "nbformat": 4,
 "nbformat_minor": 5
}

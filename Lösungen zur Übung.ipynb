{
 "cells": [
  {
   "cell_type": "code",
   "execution_count": null,
   "id": "initial_id",
   "metadata": {
    "collapsed": true
   },
   "outputs": [],
   "source": [
    ""
   ]
  },
  {
   "metadata": {},
   "cell_type": "markdown",
   "source": [
    "Lösung zur Aufgabe 01 \n",
    "\n",
    "    Probleme: Alles liegt unstrukturiert im Hauptverzeichnis, Dateinamen unklar, keine Trennung zwischen Notebook, Daten, Code und Modellen.\n",
    "\n",
    "    Verbesserungsvorschlag:"
   ],
   "id": "2ab6d8e34653aad6"
  },
  {
   "metadata": {},
   "cell_type": "code",
   "outputs": [],
   "execution_count": null,
   "source": [
    "project/\n",
    "├── notebooks/\n",
    "│   └── exploratory_analysis.ipynb\n",
    "├── src/\n",
    "│   └── preprocessing.py\n",
    "├── data/\n",
    "│   └── raw.csv\n",
    "├── models/\n",
    "│   └── model.pkl\n",
    "├── tests/\n",
    "│   └── test_preprocessing.py\n",
    "└── README.md\n"
   ],
   "id": "166cfa8b30d4acbc"
  },
  {
   "metadata": {},
   "cell_type": "markdown",
   "source": "Lösung Aufgabe 02",
   "id": "be8328446b286d44"
  },
  {
   "metadata": {},
   "cell_type": "code",
   "outputs": [],
   "execution_count": null,
   "source": [
    "def clean_dataframe(df):\n",
    "    df[\"date\"] = pd.to_datetime(df[\"date\"])\n",
    "    df = df.dropna()\n",
    "    return df[df[\"value\"] > 0]\n"
   ],
   "id": "b06547fdeb78e5d3"
  },
  {
   "metadata": {},
   "cell_type": "markdown",
   "source": "Dann: ",
   "id": "5e47495024bf7648"
  },
  {
   "metadata": {},
   "cell_type": "code",
   "outputs": [],
   "execution_count": null,
   "source": "df = clean_dataframe(df)\n",
   "id": "fed848d91351f5fc"
  },
  {
   "metadata": {},
   "cell_type": "markdown",
   "source": [
    "Lösung Aufgabe 03\n",
    "\n",
    "Lange Parameterliste → schwer wartbar\n",
    "\n",
    "Magische Strings → keine Klarheit\n",
    "\n",
    "Nutzung von iloc[i] mehrfach → ineffizient und unleserlich"
   ],
   "id": "1ddc2f8b79e46177"
  },
  {
   "metadata": {},
   "cell_type": "markdown",
   "source": "Lösung Aufgabe 04",
   "id": "3de321f3e8d67cf"
  },
  {
   "metadata": {
    "ExecuteTime": {
     "end_time": "2025-05-14T19:23:27.158099Z",
     "start_time": "2025-05-14T19:23:26.849955Z"
    }
   },
   "cell_type": "code",
   "source": [
    "if status == \"ok\" and user.is_active and not user.is_banned:\n",
    "    do_something()\n",
    "\n"
   ],
   "id": "6a64f1a809f8d431",
   "outputs": [
    {
     "ename": "NameError",
     "evalue": "name 'status' is not defined",
     "output_type": "error",
     "traceback": [
      "\u001B[1;31m---------------------------------------------------------------------------\u001B[0m",
      "\u001B[1;31mNameError\u001B[0m                                 Traceback (most recent call last)",
      "Cell \u001B[1;32mIn[1], line 1\u001B[0m\n\u001B[1;32m----> 1\u001B[0m \u001B[38;5;28;01mif\u001B[39;00m \u001B[43mstatus\u001B[49m \u001B[38;5;241m==\u001B[39m \u001B[38;5;124m\"\u001B[39m\u001B[38;5;124mok\u001B[39m\u001B[38;5;124m\"\u001B[39m \u001B[38;5;129;01mand\u001B[39;00m user\u001B[38;5;241m.\u001B[39mis_active \u001B[38;5;129;01mand\u001B[39;00m \u001B[38;5;129;01mnot\u001B[39;00m user\u001B[38;5;241m.\u001B[39mis_banned:\n\u001B[0;32m      2\u001B[0m     do_something()\n",
      "\u001B[1;31mNameError\u001B[0m: name 'status' is not defined"
     ]
    }
   ],
   "execution_count": 1
  }
 ],
 "metadata": {
  "kernelspec": {
   "display_name": "Python 3",
   "language": "python",
   "name": "python3"
  },
  "language_info": {
   "codemirror_mode": {
    "name": "ipython",
    "version": 2
   },
   "file_extension": ".py",
   "mimetype": "text/x-python",
   "name": "python",
   "nbconvert_exporter": "python",
   "pygments_lexer": "ipython2",
   "version": "2.7.6"
  }
 },
 "nbformat": 4,
 "nbformat_minor": 5
}
